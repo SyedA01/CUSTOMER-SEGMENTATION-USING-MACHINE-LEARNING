{
  "nbformat": 4,
  "nbformat_minor": 0,
  "metadata": {
    "colab": {
      "private_outputs": true,
      "provenance": []
    },
    "kernelspec": {
      "name": "python3",
      "display_name": "Python 3"
    },
    "language_info": {
      "name": "python"
    }
  },
  "cells": [
    {
      "cell_type": "code",
      "execution_count": null,
      "metadata": {
        "id": "WCuIh0lfr8QZ"
      },
      "outputs": [],
      "source": [
        "#Importing the necessary libraries\n",
        "import numpy as np\n",
        "import pandas as pd\n",
        "import matplotlib.pyplot as plt\n",
        "import seaborn as sns\n",
        "from mpl_toolkits.mplot3d import Axes3D\n",
        "%matplotlib inline"
      ]
    },
    {
      "cell_type": "code",
      "source": [
        "#Reading the excel file\n",
        "data=pd.read_excel(\"Mall_Customers.xlsx\")"
      ],
      "metadata": {
        "id": "JxtDXDj5t6MM"
      },
      "execution_count": null,
      "outputs": []
    },
    {
      "cell_type": "code",
      "source": [
        "# Data cleaning and handling missing values\n",
        "print(data.drop_duplicates())\n",
        "print(data.dropna())\n",
        "print(data.isna().any())\n",
        "print(data.isna().sum())\n",
        "cf=data.copy()\n"
      ],
      "metadata": {
        "id": "0nNXUr0mL082"
      },
      "execution_count": null,
      "outputs": []
    },
    {
      "cell_type": "code",
      "source": [
        "data.head()"
      ],
      "metadata": {
        "id": "GuqkpWv6uDg_"
      },
      "execution_count": null,
      "outputs": []
    },
    {
      "cell_type": "code",
      "source": [
        "data.corr()\n",
        "dataplot = sns.heatmap(data.corr(), cmap=\"YlGnBu\", annot=True)\n",
        "\n",
        "# displaying heatmap\n",
        "plt.show()"
      ],
      "metadata": {
        "id": "4yIzBda0uZ8u"
      },
      "execution_count": null,
      "outputs": []
    },
    {
      "cell_type": "code",
      "source": [
        "#Distribution of Annnual Income\n",
        "plt.figure(figsize=(10, 6))\n",
        "sns.set(style = 'whitegrid')\n",
        "sns.distplot(data['Annual Income (k$)'])\n",
        "plt.title('Distribution of Annual Income (k$)', fontsize = 20)\n",
        "plt.xlabel('Range of Annual Income (k$)')\n",
        "plt.ylabel('Count')"
      ],
      "metadata": {
        "id": "rMOmMytpuz8D"
      },
      "execution_count": null,
      "outputs": []
    },
    {
      "cell_type": "code",
      "source": [
        "#Distribution of age\n",
        "plt.figure(figsize=(10, 6))\n",
        "sns.set(style = 'whitegrid')\n",
        "sns.distplot(data['Age'])\n",
        "plt.title('Distribution of Age', fontsize = 20)\n",
        "plt.xlabel('Range of Age')\n",
        "plt.ylabel('Count')"
      ],
      "metadata": {
        "id": "zvSC_fQ_vG1Q"
      },
      "execution_count": null,
      "outputs": []
    },
    {
      "cell_type": "code",
      "source": [
        "#Gender Analysis\n",
        "genders = data.Gender.value_counts()\n",
        "sns.set_style(\"darkgrid\")\n",
        "plt.figure(figsize=(10,4))\n",
        "sns.barplot(x=genders.index, y=genders.values)\n",
        "plt.show()"
      ],
      "metadata": {
        "id": "vaE3GqyFvZb1"
      },
      "execution_count": null,
      "outputs": []
    },
    {
      "cell_type": "code",
      "source": [
        "data.info()"
      ],
      "metadata": {
        "id": "jNATGV-Evifs"
      },
      "execution_count": null,
      "outputs": []
    },
    {
      "cell_type": "code",
      "source": [
        "#We take just the Annual Income and Spending score\n",
        "df1=data[[\"CustomerID\",\"Gender\",\"Age\",\"Annual Income (k$)\",\"Spending Score (1-100)\"]]\n",
        "X=df1[[\"Annual Income (k$)\",\"Spending Score (1-100)\"]]\n",
        "#The input data\n",
        "X.head()"
      ],
      "metadata": {
        "id": "a-dDAyytv66F"
      },
      "execution_count": null,
      "outputs": []
    },
    {
      "cell_type": "code",
      "source": [
        "#Scatterplot of the input data\n",
        "plt.figure(figsize=(10,6))\n",
        "sns.scatterplot(x = 'Annual Income (k$)',y = 'Spending Score (1-100)',  data = X  ,s = 60 )\n",
        "plt.xlabel('Annual Income (k$)')\n",
        "plt.ylabel('Spending Score (1-100)')\n",
        "plt.title('Spending Score (1-100) vs Annual Income (k$)')\n",
        "plt.show()"
      ],
      "metadata": {
        "id": "i5jMGW4QwF2V"
      },
      "execution_count": null,
      "outputs": []
    },
    {
      "cell_type": "code",
      "source": [
        "from sklearn.preprocessing import StandardScaler\n",
        "from sklearn.decomposition import PCA\n",
        "from sklearn.cluster import KMeans\n",
        "# Step 3: Feature Transformation\n",
        "# Scale the features to have mean=0 and variance=1 (Standardization)\n",
        "scaler = StandardScaler()\n",
        "scaled_features = scaler.fit_transform(X)"
      ],
      "metadata": {
        "id": "UojZ3wbO-beu"
      },
      "execution_count": null,
      "outputs": []
    },
    {
      "cell_type": "code",
      "source": [
        "#Scatterplot of the input data\n",
        "plt.figure(figsize=(10,6))\n",
        "sns.scatterplot(x = 'Annual Income (k$)',y = 'Spending Score (1-100)',  data = X  ,s = 60 )\n",
        "plt.xlabel('Annual Income (k$)')\n",
        "plt.ylabel('Spending Score (1-100)')\n",
        "plt.title('Spending Score (1-100) vs Annual Income (k$)')\n",
        "plt.show()"
      ],
      "metadata": {
        "id": "L-XNH_q0Aho7"
      },
      "execution_count": null,
      "outputs": []
    },
    {
      "cell_type": "code",
      "source": [
        "wcss=[]\n",
        "for i in range(1,11):\n",
        "    km=KMeans(n_clusters=i)\n",
        "    km.fit(X)\n",
        "    wcss.append(km.inertia_)\n",
        "#The elbow curve\n",
        "plt.figure(figsize=(12,6))\n",
        "plt.plot(range(1,11),wcss)\n",
        "plt.plot(range(1,11),wcss, linewidth=2, color=\"red\", marker =\"8\")\n",
        "plt.xlabel(\"K Value\")\n",
        "plt.xticks(np.arange(1,11,1))\n",
        "plt.ylabel(\"WCSS\")\n",
        "plt.show()"
      ],
      "metadata": {
        "id": "HPmSt1QWAmBp"
      },
      "execution_count": null,
      "outputs": []
    },
    {
      "cell_type": "code",
      "source": [
        "#Taking 5 clusters\n",
        "km1=KMeans(n_clusters=5)\n",
        "#Fitting the input data\n",
        "km1.fit(X)\n",
        "#predicting the labels of the input data\n",
        "y=km1.predict(X)\n",
        "#adding the labels to a column named label\n",
        "df1[\"label\"] = y\n",
        "#The new dataframe with the clustering done\n",
        "df1.head()\n",
        "#The labels added to the data."
      ],
      "metadata": {
        "id": "GcVaRqFVBJH4"
      },
      "execution_count": null,
      "outputs": []
    },
    {
      "cell_type": "code",
      "source": [
        "#Scatterplot of the clusters\n",
        "plt.figure(figsize=(10,6))\n",
        "sns.scatterplot(x = 'Annual Income (k$)',y = 'Spending Score (1-100)',hue=\"label\",\n",
        "                 palette=['green','orange','brown','dodgerblue','red'], legend='full',data = df1  ,s = 60 )\n",
        "plt.xlabel('Annual Income (k$)')\n",
        "plt.ylabel('Spending Score (1-100)')\n",
        "plt.title('Spending Score (1-100) vs Annual Income (k$)')\n",
        "plt.show()"
      ],
      "metadata": {
        "id": "OSdfM2Q0C2Qn"
      },
      "execution_count": null,
      "outputs": []
    },
    {
      "cell_type": "code",
      "source": [
        "#Taking the features\n",
        "df2=data[[\"CustomerID\",\"Gender\",\"Age\",\"Annual Income (k$)\",\"Spending Score (1-100)\"]]\n",
        "X2=df2[[\"Annual Income (k$)\",\"Spending Score (1-100)\"]]\n",
        "#The input data\n",
        "X2.head()\n",
        "#Now we calculate the Within Cluster Sum of Squared Errors (WSS) for different values of k.\n",
        "wcss = []\n",
        "for k in range(1,11):\n",
        "    kmeans = KMeans(n_clusters=k, init=\"k-means++\")\n",
        "    kmeans.fit(X2)\n",
        "    wcss.append(kmeans.inertia_)\n",
        "plt.figure(figsize=(12,6))\n",
        "plt.plot(range(1,11),wcss, linewidth=2, color=\"red\", marker =\"8\")\n",
        "plt.xlabel(\"K Value\")\n",
        "plt.xticks(np.arange(1,11,1))\n",
        "plt.ylabel(\"WCSS\")\n",
        "plt.show()"
      ],
      "metadata": {
        "id": "sM94Y49fC9z3"
      },
      "execution_count": null,
      "outputs": []
    },
    {
      "cell_type": "code",
      "source": [
        "#We choose the k for which WSS starts to diminish\n",
        "km2 = KMeans(n_clusters=5)\n",
        "y2 = km.fit_predict(X2)\n",
        "df2[\"label\"] = y2\n",
        "#The data with labels\n",
        "df2.head()"
      ],
      "metadata": {
        "id": "2To5pfvmD5ek"
      },
      "execution_count": null,
      "outputs": []
    },
    {
      "cell_type": "code",
      "source": [
        "#3D Plot as we did the clustering on the basis of 3 input features\n",
        "fig = plt.figure(figsize=(20,10))\n",
        "ax = fig.add_subplot(111, projection='3d')\n",
        "ax.scatter(df2.Age[df2.label == 0], df2[\"Annual Income (k$)\"][df2.label == 0], df2[\"Spending Score (1-100)\"][df2.label == 0], c='purple', s=60)\n",
        "ax.scatter(df2.Age[df2.label == 1], df2[\"Annual Income (k$)\"][df2.label == 1], df2[\"Spending Score (1-100)\"][df2.label == 1], c='red', s=60)\n",
        "ax.scatter(df2.Age[df2.label == 2], df2[\"Annual Income (k$)\"][df2.label == 2], df2[\"Spending Score (1-100)\"][df2.label == 2], c='blue', s=60)\n",
        "ax.scatter(df2.Age[df2.label == 3], df2[\"Annual Income (k$)\"][df2.label == 3], df2[\"Spending Score (1-100)\"][df2.label == 3], c='green', s=60)\n",
        "ax.scatter(df2.Age[df2.label == 4], df2[\"Annual Income (k$)\"][df2.label == 4], df2[\"Spending Score (1-100)\"][df2.label == 4], c='yellow', s=60)\n",
        "ax.view_init(35, 185)\n",
        "plt.xlabel(\"Age\")\n",
        "plt.ylabel(\"Annual Income (k$)\")\n",
        "ax.set_zlabel('Spending Score (1-100)')\n",
        "plt.show()"
      ],
      "metadata": {
        "id": "yUQMlgzeF5Cr"
      },
      "execution_count": null,
      "outputs": []
    },
    {
      "cell_type": "code",
      "source": [
        "cust1=df2[df2[\"label\"]==1]\n",
        "print('Number of customer in 1st group=', len(cust1))\n",
        "print('They are -', cust1[\"CustomerID\"].values)\n",
        "print(\"--------------------------------------------\")\n",
        "cust2=df2[df2[\"label\"]==2]\n",
        "print('Number of customer in 2nd group=', len(cust2))\n",
        "print('They are -', cust2[\"CustomerID\"].values)\n",
        "print(\"--------------------------------------------\")\n",
        "cust3=df2[df2[\"label\"]==0]\n",
        "print('Number of customer in 3rd group=', len(cust3))\n",
        "print('They are -', cust3[\"CustomerID\"].values)\n",
        "print(\"--------------------------------------------\")\n",
        "cust4=df2[df2[\"label\"]==3]\n",
        "print('Number of customer in 4th group=', len(cust4))\n",
        "print('They are -', cust4[\"CustomerID\"].values)\n",
        "print(\"--------------------------------------------\")\n",
        "cust5=df2[df2[\"label\"]==4]\n",
        "print('Number of customer in 5th group=', len(cust5))\n",
        "print('They are -', cust5[\"CustomerID\"].values)\n",
        "print(\"--------------------------------------------\")"
      ],
      "metadata": {
        "id": "vtG8DITvMGAA"
      },
      "execution_count": null,
      "outputs": []
    }
  ]
}