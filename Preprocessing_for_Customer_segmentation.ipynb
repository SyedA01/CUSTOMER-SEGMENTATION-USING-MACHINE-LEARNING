{
  "nbformat": 4,
  "nbformat_minor": 0,
  "metadata": {
    "colab": {
      "private_outputs": true,
      "provenance": []
    },
    "kernelspec": {
      "name": "python3",
      "display_name": "Python 3"
    },
    "language_info": {
      "name": "python"
    }
  },
  "cells": [
    {
      "cell_type": "code",
      "execution_count": null,
      "metadata": {
        "id": "WCuIh0lfr8QZ"
      },
      "outputs": [],
      "source": [
        "#Importing the necessary libraries\n",
        "import numpy as np\n",
        "import pandas as pd\n",
        "import matplotlib.pyplot as plt\n",
        "import seaborn as sns\n",
        "from mpl_toolkits.mplot3d import Axes3D\n",
        "%matplotlib inline"
      ]
    },
    {
      "cell_type": "code",
      "source": [
        "#Reading the excel file\n",
        "data=pd.read_excel(\"Mall_Customers.xlsx\")"
      ],
      "metadata": {
        "id": "JxtDXDj5t6MM"
      },
      "execution_count": null,
      "outputs": []
    },
    {
      "cell_type": "code",
      "source": [
        "data.head()"
      ],
      "metadata": {
        "id": "GuqkpWv6uDg_"
      },
      "execution_count": null,
      "outputs": []
    },
    {
      "cell_type": "code",
      "source": [
        "data.corr()"
      ],
      "metadata": {
        "id": "4yIzBda0uZ8u"
      },
      "execution_count": null,
      "outputs": []
    },
    {
      "cell_type": "code",
      "source": [
        "#Distribution of Annnual Income\n",
        "plt.figure(figsize=(10, 6))\n",
        "sns.set(style = 'whitegrid')\n",
        "sns.distplot(data['Annual Income (k$)'])\n",
        "plt.title('Distribution of Annual Income (k$)', fontsize = 20)\n",
        "plt.xlabel('Range of Annual Income (k$)')\n",
        "plt.ylabel('Count')"
      ],
      "metadata": {
        "id": "rMOmMytpuz8D"
      },
      "execution_count": null,
      "outputs": []
    },
    {
      "cell_type": "code",
      "source": [
        "#Distribution of age\n",
        "plt.figure(figsize=(10, 6))\n",
        "sns.set(style = 'whitegrid')\n",
        "sns.distplot(data['Age'])\n",
        "plt.title('Distribution of Age', fontsize = 20)\n",
        "plt.xlabel('Range of Age')\n",
        "plt.ylabel('Count')"
      ],
      "metadata": {
        "id": "zvSC_fQ_vG1Q"
      },
      "execution_count": null,
      "outputs": []
    },
    {
      "cell_type": "code",
      "source": [
        "#Gender Analysis\n",
        "genders = data.Gender.value_counts()\n",
        "sns.set_style(\"darkgrid\")\n",
        "plt.figure(figsize=(10,4))\n",
        "sns.barplot(x=genders.index, y=genders.values)\n",
        "plt.show()"
      ],
      "metadata": {
        "id": "vaE3GqyFvZb1"
      },
      "execution_count": null,
      "outputs": []
    },
    {
      "cell_type": "code",
      "source": [
        "data.info()"
      ],
      "metadata": {
        "id": "jNATGV-Evifs"
      },
      "execution_count": null,
      "outputs": []
    },
    {
      "cell_type": "code",
      "source": [
        "#We take just the Annual Income and Spending score\n",
        "df1=data[[\"CustomerID\",\"Gender\",\"Age\",\"Annual Income (k$)\",\"Spending Score (1-100)\"]]\n",
        "X=df1[[\"Annual Income (k$)\",\"Spending Score (1-100)\"]]\n",
        "#The input data\n",
        "X.head()"
      ],
      "metadata": {
        "id": "a-dDAyytv66F"
      },
      "execution_count": null,
      "outputs": []
    },
    {
      "cell_type": "code",
      "source": [
        "#Scatterplot of the input data\n",
        "plt.figure(figsize=(10,6))\n",
        "sns.scatterplot(x = 'Annual Income (k$)',y = 'Spending Score (1-100)',  data = X  ,s = 60 )\n",
        "plt.xlabel('Annual Income (k$)')\n",
        "plt.ylabel('Spending Score (1-100)')\n",
        "plt.title('Spending Score (1-100) vs Annual Income (k$)')\n",
        "plt.show()"
      ],
      "metadata": {
        "id": "i5jMGW4QwF2V"
      },
      "execution_count": null,
      "outputs": []
    }
  ]
}